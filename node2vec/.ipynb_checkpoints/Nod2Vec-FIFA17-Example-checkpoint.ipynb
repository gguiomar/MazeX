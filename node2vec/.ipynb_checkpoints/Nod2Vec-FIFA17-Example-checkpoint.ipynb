{
 "cells": [
  {
   "cell_type": "markdown",
   "metadata": {},
   "source": [
    "# Node2Vec showcase"
   ]
  },
  {
   "cell_type": "markdown",
   "metadata": {},
   "source": [
    "This notebook is about showcasing the qualities of the node2vec algorithm aswell as my implementation of it which can be found and pip installed through [this link](https://github.com/eliorc/node2vec).\n",
    "\n",
    "Check out the related [Medium post](https://medium.com/@eliorcohen/node2vec-embeddings-for-graph-data-32a866340fef).\n",
    "\n",
    "Data is taken from https://www.kaggle.com/artimous/complete-fifa-2017-player-dataset-global"
   ]
  },
  {
   "cell_type": "code",
   "execution_count": 4,
   "metadata": {},
   "outputs": [
    {
     "name": "stdout",
     "output_type": "stream",
     "text": [
      "Collecting text-unidecode\n",
      "  Downloading text_unidecode-1.3-py2.py3-none-any.whl (78 kB)\n",
      "\u001b[K     |████████████████████████████████| 78 kB 2.1 MB/s \n",
      "\u001b[?25hInstalling collected packages: text-unidecode\n",
      "Successfully installed text-unidecode-1.3\n"
     ]
    }
   ],
   "source": [
    "!pip install text-unidecode"
   ]
  },
  {
   "cell_type": "code",
   "execution_count": 6,
   "metadata": {},
   "outputs": [
    {
     "name": "stdout",
     "output_type": "stream",
     "text": [
      "Collecting node2vec\n",
      "  Downloading node2vec-0.4.3.tar.gz (4.6 kB)\n",
      "Requirement already satisfied: networkx in /Users/indp/anaconda/envs/py36/lib/python3.6/site-packages (from node2vec) (2.4)\n",
      "Collecting gensim\n",
      "  Downloading gensim-4.1.2-cp36-cp36m-macosx_10_9_x86_64.whl (24.0 MB)\n",
      "\u001b[K     |████████████████████████████████| 24.0 MB 447 kB/s \n",
      "\u001b[?25hRequirement already satisfied: numpy in /Users/indp/anaconda/envs/py36/lib/python3.6/site-packages (from node2vec) (1.17.0)\n",
      "Requirement already satisfied: tqdm in /Users/indp/anaconda/envs/py36/lib/python3.6/site-packages (from node2vec) (4.45.0)\n",
      "Requirement already satisfied: joblib>=0.13.2 in /Users/indp/anaconda/envs/py36/lib/python3.6/site-packages (from node2vec) (0.14.0)\n",
      "Requirement already satisfied: scipy>=0.18.1 in /Users/indp/anaconda/envs/py36/lib/python3.6/site-packages (from gensim->node2vec) (1.3.1)\n",
      "Requirement already satisfied: dataclasses in /Users/indp/anaconda/envs/py36/lib/python3.6/site-packages (from gensim->node2vec) (0.7)\n",
      "Collecting smart-open>=1.8.1\n",
      "  Downloading smart_open-5.2.1-py3-none-any.whl (58 kB)\n",
      "\u001b[K     |████████████████████████████████| 58 kB 2.5 MB/s \n",
      "\u001b[?25hRequirement already satisfied: decorator>=4.3.0 in /Users/indp/anaconda/envs/py36/lib/python3.6/site-packages (from networkx->node2vec) (4.3.0)\n",
      "Building wheels for collected packages: node2vec\n",
      "  Building wheel for node2vec (setup.py) ... \u001b[?25ldone\n",
      "\u001b[?25h  Created wheel for node2vec: filename=node2vec-0.4.3-py3-none-any.whl size=6767 sha256=fbeaea1093b72e7b4bcb8cf582b7db8e64e88b1f5372194aca79b90b90ff691f\n",
      "  Stored in directory: /Users/indp/Library/Caches/pip/wheels/87/da/ef/9bf19b7ee13e54599d253f7a9d2fa68f6c3049d3c177de5858\n",
      "Successfully built node2vec\n",
      "Installing collected packages: smart-open, gensim, node2vec\n",
      "Successfully installed gensim-4.1.2 node2vec-0.4.3 smart-open-5.2.1\n"
     ]
    }
   ],
   "source": [
    "!pip install node2vec"
   ]
  },
  {
   "cell_type": "code",
   "execution_count": 7,
   "metadata": {},
   "outputs": [],
   "source": [
    "%matplotlib inline\n",
    "\n",
    "import warnings\n",
    "from text_unidecode import unidecode\n",
    "from collections import deque\n",
    "warnings.filterwarnings('ignore')\n",
    "\n",
    "\n",
    "import pandas as pd\n",
    "from sklearn.manifold import TSNE\n",
    "import numpy as np\n",
    "import networkx as nx\n",
    "import matplotlib.pyplot as plt\n",
    "import matplotlib.patches as mpatches\n",
    "import seaborn as sns\n",
    "from node2vec import Node2Vec\n",
    "\n",
    "sns.set_style('whitegrid')"
   ]
  },
  {
   "cell_type": "markdown",
   "metadata": {},
   "source": [
    "### Data loading and pre processing"
   ]
  },
  {
   "cell_type": "code",
   "execution_count": 9,
   "metadata": {},
   "outputs": [
    {
     "data": {
      "text/html": [
       "<div>\n",
       "<style scoped>\n",
       "    .dataframe tbody tr th:only-of-type {\n",
       "        vertical-align: middle;\n",
       "    }\n",
       "\n",
       "    .dataframe tbody tr th {\n",
       "        vertical-align: top;\n",
       "    }\n",
       "\n",
       "    .dataframe thead th {\n",
       "        text-align: right;\n",
       "    }\n",
       "</style>\n",
       "<table border=\"1\" class=\"dataframe\">\n",
       "  <thead>\n",
       "    <tr style=\"text-align: right;\">\n",
       "      <th></th>\n",
       "      <th>name</th>\n",
       "      <th>club</th>\n",
       "      <th>club_position</th>\n",
       "      <th>rating</th>\n",
       "    </tr>\n",
       "  </thead>\n",
       "  <tbody>\n",
       "    <tr>\n",
       "      <th>0</th>\n",
       "      <td>cristiano_ronaldo</td>\n",
       "      <td>real_madrid</td>\n",
       "      <td>lw</td>\n",
       "      <td>94</td>\n",
       "    </tr>\n",
       "    <tr>\n",
       "      <th>4</th>\n",
       "      <td>manuel_neuer</td>\n",
       "      <td>fc_bayern</td>\n",
       "      <td>gk</td>\n",
       "      <td>92</td>\n",
       "    </tr>\n",
       "    <tr>\n",
       "      <th>5</th>\n",
       "      <td>de_gea</td>\n",
       "      <td>manchester_utd</td>\n",
       "      <td>gk</td>\n",
       "      <td>90</td>\n",
       "    </tr>\n",
       "    <tr>\n",
       "      <th>6</th>\n",
       "      <td>robert_lewandowski</td>\n",
       "      <td>fc_bayern</td>\n",
       "      <td>st</td>\n",
       "      <td>90</td>\n",
       "    </tr>\n",
       "    <tr>\n",
       "      <th>7</th>\n",
       "      <td>gareth_bale</td>\n",
       "      <td>real_madrid</td>\n",
       "      <td>rw</td>\n",
       "      <td>90</td>\n",
       "    </tr>\n",
       "    <tr>\n",
       "      <th>...</th>\n",
       "      <td>...</td>\n",
       "      <td>...</td>\n",
       "      <td>...</td>\n",
       "      <td>...</td>\n",
       "    </tr>\n",
       "    <tr>\n",
       "      <th>615</th>\n",
       "      <td>marcos_alonso</td>\n",
       "      <td>chelsea</td>\n",
       "      <td>lwb</td>\n",
       "      <td>79</td>\n",
       "    </tr>\n",
       "    <tr>\n",
       "      <th>687</th>\n",
       "      <td>gael_clichy</td>\n",
       "      <td>manchester_city</td>\n",
       "      <td>lb</td>\n",
       "      <td>79</td>\n",
       "    </tr>\n",
       "    <tr>\n",
       "      <th>850</th>\n",
       "      <td>victor_moses</td>\n",
       "      <td>chelsea</td>\n",
       "      <td>rwb</td>\n",
       "      <td>78</td>\n",
       "    </tr>\n",
       "    <tr>\n",
       "      <th>892</th>\n",
       "      <td>willy_caballero</td>\n",
       "      <td>manchester_city</td>\n",
       "      <td>gk</td>\n",
       "      <td>78</td>\n",
       "    </tr>\n",
       "    <tr>\n",
       "      <th>1206</th>\n",
       "      <td>amadou_diawara</td>\n",
       "      <td>napoli</td>\n",
       "      <td>cm</td>\n",
       "      <td>76</td>\n",
       "    </tr>\n",
       "  </tbody>\n",
       "</table>\n",
       "<p>77 rows × 4 columns</p>\n",
       "</div>"
      ],
      "text/plain": [
       "                    name             club club_position  rating\n",
       "0      cristiano_ronaldo      real_madrid            lw      94\n",
       "4           manuel_neuer        fc_bayern            gk      92\n",
       "5                 de_gea   manchester_utd            gk      90\n",
       "6     robert_lewandowski        fc_bayern            st      90\n",
       "7            gareth_bale      real_madrid            rw      90\n",
       "...                  ...              ...           ...     ...\n",
       "615        marcos_alonso          chelsea           lwb      79\n",
       "687          gael_clichy  manchester_city            lb      79\n",
       "850         victor_moses          chelsea           rwb      78\n",
       "892      willy_caballero  manchester_city            gk      78\n",
       "1206      amadou_diawara           napoli            cm      76\n",
       "\n",
       "[77 rows x 4 columns]"
      ]
     },
     "execution_count": 9,
     "metadata": {},
     "output_type": "execute_result"
    }
   ],
   "source": [
    "# Load data \n",
    "data = pd.read_csv('./FullData.csv', usecols=['Name', 'Club', 'Club_Position', 'Rating'])\n",
    "\n",
    "# Lowercase columns for convenience\n",
    "data.columns = list(map(str.lower, data.columns))\n",
    "\n",
    "# Reformat strings: lowercase, ' ' -> '_' and é, ô etc. -> e, o\n",
    "reformat_string = lambda x: unidecode(str.lower(x).replace(' ', '_'))\n",
    "    \n",
    "data['name'] = data['name'].apply(reformat_string)\n",
    "data['club'] = data['club'].apply(reformat_string)\n",
    "\n",
    "# Lowercase position\n",
    "data['club_position'] = data['club_position'].str.lower()\n",
    "\n",
    "# Ignore substitutes and reserves \n",
    "data = data[(data['club_position'] != 'sub') & (data['club_position'] != 'res')]\n",
    "\n",
    "# Fix lcm rcm -> cm cm\n",
    "fix_positions = {'rcm' : 'cm', 'lcm': 'cm', 'rcb': 'cb', 'lcb': 'cb', 'ldm': 'cdm', 'rdm': 'cdm'}\n",
    "data['club_position'] = data['club_position'].apply(lambda x: fix_positions.get(x, x))\n",
    "\n",
    "# For example sake we will keep only 7 clubs\n",
    "clubs = {'real_madrid', 'manchester_utd', \n",
    "         'manchester_city', 'chelsea', 'juventus', \n",
    "         'fc_bayern', 'napoli'}\n",
    "\n",
    "data = data[data['club'].isin(clubs)]\n",
    "\n",
    "\n",
    "# Verify we have 11 player for each team\n",
    "assert all(n_players == 11 for n_players in data.groupby('club')['name'].nunique())\n",
    "\n",
    "data"
   ]
  },
  {
   "cell_type": "markdown",
   "metadata": {},
   "source": [
    "Here comes the ugly part.\n",
    "Since we want to put each team of a graph of nodes and edges, I had to hard-code the relationship between the different FIFA 17 formations.\n",
    "\n",
    "Also since some formations have the same role (CB for example) in different positions connected to different players, I first use a distinct name for each role which after the learning process I will trim so the positions will be the same.\n",
    "\n",
    "Finally since position are connected differently in each formation we will add a suffix for the graph presentation and we will trim it also before the Word2vec process\n",
    "\n",
    "Example:\n",
    "\n",
    "`'cb'` will become `'cb_1_real_madrid'` because it is the first CB, in Real Madrid's formation, and before running the Word2Vec algorithm it will be trimmed to `cb` again\n",
    "\n",
    "### Formations"
   ]
  },
  {
   "cell_type": "code",
   "execution_count": 10,
   "metadata": {},
   "outputs": [],
   "source": [
    "FORMATIONS = {'4-3-3_4': {'gk': ['cb_1', 'cb_2'],                           # Real madrid\n",
    "                          'lb': ['lw', 'cb_1', 'cm_1'],\n",
    "                          'cb_1': ['lb', 'cb_2', 'gk'],\n",
    "                          'cb_2': ['rb', 'cb_1', 'gk'],\n",
    "                          'rb': ['rw', 'cb_2', 'cm_2'],\n",
    "                          'cm_1': ['cam', 'lw', 'cb_1', 'lb'],\n",
    "                          'cm_2': ['cam', 'rw', 'cb_2', 'rb'],\n",
    "                          'cam': ['cm_1', 'cm_2', 'st'],\n",
    "                          'lw': ['cm_1', 'lb', 'st'],\n",
    "                          'rw': ['cm_2', 'rb', 'st'],\n",
    "                          'st': ['cam', 'lw', 'rw']},\n",
    "              '5-2-2-1': {'gk': ['cb_1', 'cb_2', 'cb_3'],                   # Chelsea\n",
    "                          'cb_1': ['gk', 'cb_2', 'lwb'],\n",
    "                          'cb_2': ['gk', 'cb_1', 'cb_3', 'cm_1', 'cb_2'],\n",
    "                          'cb_3': ['gk', 'cb_2', 'rwb'],\n",
    "                          'lwb': ['cb_1', 'cm_1', 'lw'],\n",
    "                          'cm_1': ['lwb', 'cb_2', 'cm_2', 'lw', 'st'],\n",
    "                          'cm_2': ['rwb', 'cb_2', 'cm_1', 'rw', 'st'],\n",
    "                          'rwb': ['cb_3', 'cm_2', 'rw'],\n",
    "                          'lw': ['lwb', 'cm_1', 'st'],\n",
    "                          'st': ['lw', 'cm_1', 'cm_2', 'rw'],\n",
    "                          'rw': ['st', 'rwb', 'cm_2']},\n",
    "              '4-3-3_2': {'gk': ['cb_1', 'cb_2'],                           # Man UTD / CITY\n",
    "                          'lb': ['cb_1', 'cm_1'],\n",
    "                          'cb_1': ['lb', 'cb_2', 'gk', 'cdm'],\n",
    "                          'cb_2': ['rb', 'cb_1', 'gk', 'cdm'],\n",
    "                          'rb': ['cb_2', 'cm_2'],\n",
    "                          'cm_1': ['cdm', 'lw', 'lb', 'st'],\n",
    "                          'cm_2': ['cdm', 'rw', 'st', 'rb'],\n",
    "                          'cdm': ['cm_1', 'cm_2', 'cb_1', 'cb_2'],\n",
    "                          'lw': ['cm_1', 'st'],\n",
    "                          'rw': ['cm_2', 'st'],\n",
    "                          'st': ['cm_1', 'cm_2', 'lw', 'rw']},              # Juventus, Bayern\n",
    "              '4-2-3-1_2': {'gk': ['cb_1', 'cb_2'],\n",
    "                            'lb': ['lm', 'cdm_1', 'cb_1'],\n",
    "                            'cb_1': ['lb', 'cdm_1', 'gk', 'cb_2'],\n",
    "                            'cb_2': ['rb', 'cdm_2', 'gk', 'cb_1'],\n",
    "                            'rb': ['cb_2', 'rm', 'cdm_2'],\n",
    "                            'lm': ['lb', 'cdm_1', 'st', 'cam'],\n",
    "                            'rm': ['rb', 'cdm_2', 'st', 'cam'],\n",
    "                            'cdm_1': ['lm', 'cb_1', 'rb', 'cam'],\n",
    "                            'cdm_2': ['rm', 'cb_2', 'lb', 'cam'],\n",
    "                            'cam': ['cdm_1', 'cdm_2', 'rm', 'lm', 'st'],\n",
    "                            'st': ['lm', 'rm', 'cam']},\n",
    "              '4-3-3': {'gk': ['cb_1', 'cb_2'],                             # Napoli\n",
    "                        'lb': ['cb_1', 'cm_1'],\n",
    "                        'cb_1': ['lb', 'cb_2', 'gk', 'cm_2'],\n",
    "                        'cb_2': ['rb', 'cb_1', 'gk', 'cm_2'],\n",
    "                        'rb': ['cb_2', 'cm_3'],\n",
    "                        'cm_1': ['cm_2', 'lw', 'lb'],\n",
    "                        'cm_3': ['cm_2', 'rw', 'rb'],\n",
    "                        'cm_2': ['cm_1', 'cm_3', 'st', 'cb_1', 'cb_2'],\n",
    "                        'lw': ['cm_1', 'st'],\n",
    "                        'rw': ['cm_3', 'st'],\n",
    "                        'st': ['cm_2', 'lw', 'rw']}}\n"
   ]
  },
  {
   "cell_type": "markdown",
   "metadata": {},
   "source": [
    "### Creating the graphs for each team"
   ]
  },
  {
   "cell_type": "code",
   "execution_count": 11,
   "metadata": {},
   "outputs": [],
   "source": [
    "add_club_suffix = lambda x, c: x + '_{}'.format(c)\n",
    "\n",
    "graph = nx.Graph()\n",
    "formatted_positions = set()\n",
    "\n",
    "def club2graph(club_name, formation, graph):\n",
    "    club_data = data[data['club'] == club_name]\n",
    "    \n",
    "    club_formation = FORMATIONS[formation]\n",
    "    \n",
    "    club_positions = dict()\n",
    "    \n",
    "    # Assign positions to players\n",
    "    available_positions = deque(club_formation)\n",
    "    available_players = set(zip(club_data['name'], club_data['club_position']))\n",
    "    \n",
    "    roster = dict()  # Here we will store the assigned players and positions\n",
    "    \n",
    "    while available_positions:\n",
    "        position = available_positions.pop()\n",
    "        name, pos = [(name, position) for name, p in available_players if position.startswith(p)][0]        \n",
    "        \n",
    "        roster[name] = pos\n",
    "        \n",
    "        available_players.remove((name, pos.split('_')[0]))\n",
    "        \n",
    "    reverse_roster = {v: k for k, v in roster.items()}\n",
    "        \n",
    "    # Build the graph\n",
    "    for name, position in roster.items():\n",
    "        # Connect to team name\n",
    "        graph.add_edge(name, club_name)\n",
    "        \n",
    "        # Inter team connections\n",
    "        for teammate_position in club_formation[position]:\n",
    "            # Connect positions\n",
    "            graph.add_edge(add_club_suffix(position, club_name),\n",
    "                           add_club_suffix(teammate_position, club_name))\n",
    "            \n",
    "            # Connect player to teammate positions\n",
    "            graph.add_edge(name,\n",
    "                           add_club_suffix(teammate_position, club_name))\n",
    "            \n",
    "            # Connect player to teammates\n",
    "            graph.add_edge(name, reverse_roster[teammate_position])\n",
    "            \n",
    "            # Save for later trimming\n",
    "            formatted_positions.add(add_club_suffix(position, club_name))\n",
    "            formatted_positions.add(add_club_suffix(teammate_position, club_name))\n",
    "            \n",
    "    return graph"
   ]
  },
  {
   "cell_type": "code",
   "execution_count": 12,
   "metadata": {},
   "outputs": [],
   "source": [
    "teams = [('real_madrid', '4-3-3_4'), \n",
    "         ('chelsea', '5-2-2-1'),\n",
    "         ('manchester_utd', '4-3-3_2'),\n",
    "         ('manchester_city', '4-3-3_2'),\n",
    "         ('juventus', '4-2-3-1_2'),\n",
    "         ('fc_bayern', '4-2-3-1_2'),\n",
    "         ('napoli', '4-3-3')]"
   ]
  },
  {
   "cell_type": "code",
   "execution_count": 87,
   "metadata": {},
   "outputs": [
    {
     "name": "stdout",
     "output_type": "stream",
     "text": [
      "real_madrid\n",
      "chelsea\n",
      "manchester_utd\n",
      "manchester_city\n",
      "juventus\n",
      "fc_bayern\n",
      "napoli\n"
     ]
    }
   ],
   "source": [
    "graph = club2graph('napoli', '4-3-3', graph)\n",
    "\n",
    "for team, formation in teams:\n",
    "    print(team)\n",
    "    graph = club2graph(team, formation, graph)"
   ]
  },
  {
   "cell_type": "code",
   "execution_count": 106,
   "metadata": {},
   "outputs": [
    {
     "data": {
      "text/plain": [
       "NodeView(('karim_benzema', 'real_madrid', 'st_real_madrid', 'cam_real_madrid', 'james_rodriguez', 'lw_real_madrid', 'cristiano_ronaldo', 'rw_real_madrid', 'gareth_bale', 'cm_2_real_madrid', 'toni_kroos', 'rb_real_madrid', 'carvajal', 'cm_1_real_madrid', 'luka_modric', 'lb_real_madrid', 'marcelo', 'cb_2_real_madrid', 'sergio_ramos', 'cb_1_real_madrid', 'pepe', 'gk_real_madrid', 'keylor_navas', 'pedro', 'chelsea', 'rw_chelsea', 'st_chelsea', 'diego_costa', 'rwb_chelsea', 'victor_moses', 'cm_2_chelsea', 'nemanja_matic', 'lw_chelsea', 'eden_hazard', 'cm_1_chelsea', \"n'golo_kante\", 'lwb_chelsea', 'marcos_alonso', 'cb_3_chelsea', 'david_luiz', 'cb_2_chelsea', 'azpilicueta', 'cb_1_chelsea', 'gary_cahill', 'gk_chelsea', 'thibaut_courtois', 'zlatan_ibrahimovic', 'manchester_utd', 'st_manchester_utd', 'cm_1_manchester_utd', 'paul_pogba', 'cm_2_manchester_utd', 'ander_herrera', 'lw_manchester_utd', 'anthony_martial', 'rw_manchester_utd', 'henrikh_mkhitaryan', 'michael_carrick', 'cdm_manchester_utd', 'cb_1_manchester_utd', 'eric_bailly', 'cb_2_manchester_utd', 'chris_smalling', 'rb_manchester_utd', 'antonio_valencia', 'lb_manchester_utd', 'daley_blind', 'gk_manchester_utd', 'de_gea', 'sergio_aguero', 'manchester_city', 'st_manchester_city', 'cm_1_manchester_city', 'david_silva', 'cm_2_manchester_city', 'kevin_de_bruyne', 'lw_manchester_city', 'leroy_sane', 'rw_manchester_city', 'raheem_sterling', 'yaya_toure', 'cdm_manchester_city', 'cb_1_manchester_city', 'nicolas_otamendi', 'cb_2_manchester_city', 'john_stones', 'rb_manchester_city', 'bacary_sagna', 'lb_manchester_city', 'gael_clichy', 'gk_manchester_city', 'willy_caballero', 'gonzalo_higuain', 'juventus', 'st_juventus', 'lm_juventus', 'mario_mandzukic', 'rm_juventus', 'juan_cuadrado', 'cam_juventus', 'paulo_dybala', 'cdm_1_juventus', 'sami_khedira', 'cdm_2_juventus', 'miralem_pjanic', 'cb_2_juventus', 'giorgio_chiellini', 'lb_juventus', 'alex_sandro', 'cb_1_juventus', 'leonardo_bonucci', 'rb_juventus', 'stephan_lichtsteiner', 'gk_juventus', 'gianluigi_buffon', 'robert_lewandowski', 'fc_bayern', 'st_fc_bayern', 'lm_fc_bayern', 'douglas_costa', 'rm_fc_bayern', 'arjen_robben', 'cam_fc_bayern', 'thomas_muller', 'cdm_1_fc_bayern', 'thiago', 'cdm_2_fc_bayern', 'arturo_vidal', 'cb_2_fc_bayern', 'mats_hummels', 'lb_fc_bayern', 'david_alaba', 'cb_1_fc_bayern', 'javi_martinez', 'rb_fc_bayern', 'philipp_lahm', 'gk_fc_bayern', 'manuel_neuer', 'dries_mertens', 'napoli', 'st_napoli', 'cm_2_napoli', 'piotr_zielinski', 'lw_napoli', 'lorenzo_insigne', 'rw_napoli', 'jose_callejon', 'cm_3_napoli', 'marek_hamsik', 'cm_1_napoli', 'amadou_diawara', 'cb_1_napoli', 'raul_albiol', 'cb_2_napoli', 'kalidou_koulibaly', 'rb_napoli', 'elseid_hysaj', 'lb_napoli', 'faouzi_ghoulam', 'gk_napoli', 'jose_reina'))"
      ]
     },
     "execution_count": 106,
     "metadata": {},
     "output_type": "execute_result"
    }
   ],
   "source": [
    "graph.nodes"
   ]
  },
  {
   "cell_type": "markdown",
   "metadata": {},
   "source": [
    "### Node2Vec algorithm"
   ]
  },
  {
   "cell_type": "code",
   "execution_count": 88,
   "metadata": {},
   "outputs": [
    {
     "data": {
      "application/vnd.jupyter.widget-view+json": {
       "model_id": "953d5b28d0c44c5eaeb24526f97893ca",
       "version_major": 2,
       "version_minor": 0
      },
      "text/plain": [
       "HBox(children=(FloatProgress(value=0.0, description='Computing transition probabilities', max=161.0, style=Pro…"
      ]
     },
     "metadata": {},
     "output_type": "display_data"
    },
    {
     "name": "stdout",
     "output_type": "stream",
     "text": [
      "\n"
     ]
    }
   ],
   "source": [
    "node2vec = Node2Vec(graph, dimensions=5, walk_length=16, num_walks=100, workers=2)"
   ]
  },
  {
   "cell_type": "code",
   "execution_count": 89,
   "metadata": {},
   "outputs": [],
   "source": [
    "fix_formatted_positions = lambda x: x.split('_')[0] if x in formatted_positions else x\n",
    "reformatted_walks = [list(map(fix_formatted_positions, walk)) for walk in node2vec.walks]\n",
    "node2vec.walks = reformatted_walks"
   ]
  },
  {
   "cell_type": "code",
   "execution_count": 90,
   "metadata": {},
   "outputs": [],
   "source": [
    "model = node2vec.fit(window=10, min_count=1)"
   ]
  },
  {
   "cell_type": "markdown",
   "metadata": {},
   "source": [
    "#### Most similar nodes"
   ]
  },
  {
   "cell_type": "code",
   "execution_count": 91,
   "metadata": {},
   "outputs": [
    {
     "name": "stdout",
     "output_type": "stream",
     "text": [
      "sergio_aguero\n",
      "raheem_sterling\n",
      "leroy_sane\n",
      "diego_costa\n",
      "david_silva\n"
     ]
    }
   ],
   "source": [
    "for node, _ in model.wv.most_similar('rw'):\n",
    "    # Show only players\n",
    "    if len(node) > 3:\n",
    "        print(node)"
   ]
  },
  {
   "cell_type": "code",
   "execution_count": 92,
   "metadata": {},
   "outputs": [
    {
     "name": "stdout",
     "output_type": "stream",
     "text": [
      "manchester_city\n",
      "gael_clichy\n",
      "kevin_de_bruyne\n",
      "yaya_toure\n",
      "david_silva\n",
      "bacary_sagna\n",
      "raheem_sterling\n"
     ]
    }
   ],
   "source": [
    "for node, _ in model.wv.most_similar('gk'):\n",
    "    # Show only players\n",
    "    if len(node) > 3:\n",
    "        print(node)"
   ]
  },
  {
   "cell_type": "code",
   "execution_count": 93,
   "metadata": {},
   "outputs": [
    {
     "name": "stdout",
     "output_type": "stream",
     "text": [
      "james_rodriguez\n",
      "karim_benzema\n",
      "cristiano_ronaldo\n",
      "toni_kroos\n",
      "luka_modric\n",
      "carvajal\n",
      "marcelo\n",
      "gareth_bale\n",
      "sergio_ramos\n",
      "keylor_navas\n"
     ]
    }
   ],
   "source": [
    "for node, _ in model.wv.most_similar('real_madrid'):\n",
    "    print(node)"
   ]
  },
  {
   "cell_type": "code",
   "execution_count": 94,
   "metadata": {},
   "outputs": [
    {
     "name": "stdout",
     "output_type": "stream",
     "text": [
      "mario_mandzukic\n",
      "juan_cuadrado\n",
      "gonzalo_higuain\n",
      "miralem_pjanic\n",
      "sami_khedira\n",
      "stephan_lichtsteiner\n",
      "juventus\n",
      "alex_sandro\n",
      "giorgio_chiellini\n",
      "leonardo_bonucci\n"
     ]
    }
   ],
   "source": [
    "for node, _ in model.wv.most_similar('paulo_dybala'):\n",
    "    print(node)"
   ]
  },
  {
   "cell_type": "markdown",
   "metadata": {},
   "source": [
    "#### Visualization"
   ]
  },
  {
   "cell_type": "code",
   "execution_count": 95,
   "metadata": {},
   "outputs": [],
   "source": [
    "player_nodes = [x for x in model.wv.key_to_index if len(x) > 3 and x not in clubs]\n",
    "embeddings = np.array([model.wv[x] for x in player_nodes])"
   ]
  },
  {
   "cell_type": "code",
   "execution_count": 96,
   "metadata": {},
   "outputs": [
    {
     "data": {
      "text/plain": [
       "77"
      ]
     },
     "execution_count": 96,
     "metadata": {},
     "output_type": "execute_result"
    }
   ],
   "source": [
    "len(player_nodes)"
   ]
  },
  {
   "cell_type": "code",
   "execution_count": 97,
   "metadata": {},
   "outputs": [
    {
     "data": {
      "text/plain": [
       "(77, 5)"
      ]
     },
     "execution_count": 97,
     "metadata": {},
     "output_type": "execute_result"
    }
   ],
   "source": [
    "embeddings.shape"
   ]
  },
  {
   "cell_type": "code",
   "execution_count": 98,
   "metadata": {},
   "outputs": [],
   "source": [
    "tsne = TSNE(n_components=2, random_state=7, perplexity=15)\n",
    "embeddings_2d = tsne.fit_transform(embeddings)"
   ]
  },
  {
   "cell_type": "code",
   "execution_count": 99,
   "metadata": {},
   "outputs": [],
   "source": [
    "# Assign colors to players\n",
    "team_colors = {\n",
    "    'real_madrid': 'lightblue',\n",
    "    'chelsea': 'b',\n",
    "    'manchester_utd': 'r',\n",
    "    'manchester_city': 'teal',\n",
    "    'juventus': 'gainsboro',\n",
    "    'napoli': 'deepskyblue',\n",
    "    'fc_bayern': 'tomato' \n",
    "}\n",
    "\n",
    "data['color'] = data['club'].apply(lambda x: team_colors[x])\n",
    "player_colors = dict(zip(data['name'], data['color']))\n",
    "colors = [player_colors[x] for x in player_nodes]"
   ]
  },
  {
   "cell_type": "code",
   "execution_count": 100,
   "metadata": {},
   "outputs": [
    {
     "data": {
      "image/png": "[encoded data removed]",
      "text/plain": [
       "<Figure size 792x648 with 1 Axes>"
      ]
     },
     "metadata": {},
     "output_type": "display_data"
    }
   ],
   "source": [
    "figure = plt.figure(figsize=(11, 9))\n",
    "\n",
    "ax = figure.add_subplot(111)\n",
    "\n",
    "ax.scatter(embeddings_2d[:, 0], embeddings_2d[:, 1], c=colors)\n",
    "\n",
    "# Create team patches for legend\n",
    "team_patches = [mpatches.Patch(color=color, label=team) for team, color in team_colors.items()]\n",
    "ax.legend(handles=team_patches);"
   ]
  },
  {
   "cell_type": "code",
   "execution_count": 76,
   "metadata": {},
   "outputs": [
    {
     "data": {
      "image/png": "[encoded data removed]",
      "text/plain": [
       "<Figure size 792x648 with 1 Axes>"
      ]
     },
     "metadata": {},
     "output_type": "display_data"
    }
   ],
   "source": [
    "figure = plt.figure(figsize=(11, 9))\n",
    "\n",
    "ax = figure.add_subplot(111)\n",
    "\n",
    "ax.scatter(embeddings_2d[:, 0], embeddings_2d[:, 1], c=colors)\n",
    "\n",
    "# Create team patches for legend\n",
    "team_patches = [mpatches.Patch(color=color, label=team) for team, color in team_colors.items()]\n",
    "ax.legend(handles=team_patches);"
   ]
  },
  {
   "cell_type": "code",
   "execution_count": null,
   "metadata": {},
   "outputs": [],
   "source": []
  }
 ],
 "metadata": {
  "kernelspec": {
   "display_name": "Python 3",
   "language": "python",
   "name": "python3"
  },
  "language_info": {
   "codemirror_mode": {
    "name": "ipython",
    "version": 3
   },
   "file_extension": ".py",
   "mimetype": "text/x-python",
   "name": "python",
   "nbconvert_exporter": "python",
   "pygments_lexer": "ipython3",
   "version": "3.6.10"
  }
 },
 "nbformat": 4,
 "nbformat_minor": 2
}
