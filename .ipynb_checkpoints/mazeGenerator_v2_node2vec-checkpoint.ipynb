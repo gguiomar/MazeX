{
 "cells": [
  {
   "cell_type": "code",
   "execution_count": 12,
   "metadata": {},
   "outputs": [],
   "source": [
    "import numpy as np\n",
    "import matplotlib.pyplot as plt\n",
    "import matplotlib.gridspec as gridspec\n",
    "import scipy as sp\n",
    "import networkx as nx\n",
    "\n",
    "from gensim.models import Word2Vec\n",
    "from sklearn.manifold import TSNE\n",
    "\n",
    "from collections import defaultdict\n",
    "\n",
    "%matplotlib inline\n",
    "#%load_ext line_profiler\n",
    "\n",
    "from matplotlib import rc\n",
    "params = {'text.usetex': False, 'mathtext.fontset': 'stixsans', 'axes.linewidth': 2}\n",
    "plt.rcParams.update(params)\n",
    "plt.rcParams.update({'font.size': 10})\n",
    "plt.rcParams['xtick.major.size'] = 5\n",
    "plt.rcParams['xtick.major.width'] = 2\n",
    "plt.rcParams['ytick.major.size'] = 5\n",
    "plt.rcParams['ytick.major.width'] = 2"
   ]
  },
  {
   "cell_type": "markdown",
   "metadata": {},
   "source": [
    "# simple grid world\n",
    "functions to be defined:\n",
    "* set initial and end position\n",
    "* generate set of graphs with at least one path from inital to end pos\n",
    "* take that set of graphs and generate graphs with rewards and punishments\n",
    "    * rules for (R,P):\n",
    "        * only one reward\n",
    "        * maximum M punishments\n",
    "        * at least one path without punishment"
   ]
  },
  {
   "cell_type": "code",
   "execution_count": 4,
   "metadata": {},
   "outputs": [],
   "source": [
    "def plot_graph_matrix(G):\n",
    "    plt.imshow(nx.to_numpy_matrix(G))\n",
    "    \n",
    "def init_state(G):\n",
    "    return list(G.nodes)[np.random.randint(len(G.nodes))]\n",
    "\n",
    "def draw_graph(G):\n",
    "    plt.figure(figsize=(3,3))\n",
    "    pos = {(x,y):(y,-x) for x,y in G.nodes()}\n",
    "    nx.draw(G, pos=pos, \n",
    "            node_color='k', \n",
    "            with_labels=False,\n",
    "            node_size=300)"
   ]
  },
  {
   "cell_type": "code",
   "execution_count": 5,
   "metadata": {},
   "outputs": [],
   "source": [
    "def get_next_state(G, current_state, action):\n",
    "    # given an initial state, outputs the next state after action is taken\n",
    "    # need to insert rewards/punishments (probably should be a data structure)\n",
    "    \n",
    "    # get all edges of current_state node\n",
    "    neigh_edges = G.edges(current_state)\n",
    "    \n",
    "    valid_state = False\n",
    "    valid_transition = False\n",
    "    \n",
    "    if action == 0: #UP\n",
    "        next_state = (current_state[0]-1, current_state[1])\n",
    "    if action == 1: #DOWN\n",
    "        next_state = (current_state[0]+1, current_state[1])    \n",
    "    if action == 2: #LEFT\n",
    "        next_state = (current_state[0], current_state[1]-1)    \n",
    "    if action == 3: #RIGHT\n",
    "        next_state = (current_state[0], current_state[1]+1)\n",
    "        \n",
    "    # check if next state is valid\n",
    "    \n",
    "    for node in G.nodes:\n",
    "        if next_state == node:\n",
    "            valid_state = True\n",
    "    \n",
    "    for edge in neigh_edges:\n",
    "        if next_state == edge[1]:\n",
    "            valid_transition = True\n",
    "    \n",
    "    if (valid_state & valid_transition):\n",
    "        return next_state\n",
    "    else:\n",
    "        return current_state"
   ]
  },
  {
   "cell_type": "markdown",
   "metadata": {},
   "source": [
    "# generate valid graphs\n",
    "Rules:\n",
    "* no isolated states - complete graph (formal definition)\n",
    "* start and end state conditions\n",
    "    * at least one path between start and end state\n",
    "        * at least one path without punishments\n",
    "        * this implies that we need to have at least 2 different paths for rewards"
   ]
  },
  {
   "cell_type": "markdown",
   "metadata": {},
   "source": [
    "# generate a set of connected graphs with some edges removed"
   ]
  },
  {
   "cell_type": "code",
   "execution_count": 6,
   "metadata": {},
   "outputs": [],
   "source": [
    "def remove_edges(G, n_edges):\n",
    "    \n",
    "    # generates a graph with n_edges removed\n",
    "\n",
    "    for i in range(n_edges):\n",
    "        n_total_edges = len(list(G.edges))\n",
    "        random_edge = list(G.edges)[np.random.randint(n_total_edges)]\n",
    "        G.remove_edge(random_edge[0],random_edge[1])\n",
    "        \n",
    "    return G"
   ]
  },
  {
   "cell_type": "code",
   "execution_count": 7,
   "metadata": {},
   "outputs": [],
   "source": [
    "def generate_connected_graphs(grid_size, n_graphs, n_tries, n_edges_removed):\n",
    "    \n",
    "    c = 0\n",
    "    g_list = []\n",
    "    for n in range(n_tries):\n",
    "        g = nx.grid_2d_graph(grid_size, grid_size)\n",
    "        g = remove_edges(g, n_edges_removed)\n",
    "        #print(nx.is_connected(g))\n",
    "        if nx.is_connected(g):\n",
    "            g_list.append(g)\n",
    "            c +=1\n",
    "        if c == n_graphs:\n",
    "            break\n",
    "            \n",
    "    return g_list"
   ]
  },
  {
   "cell_type": "code",
   "execution_count": 8,
   "metadata": {},
   "outputs": [
    {
     "name": "stdout",
     "output_type": "stream",
     "text": [
      "3\n",
      "40\n",
      "25\n",
      "25\n",
      "25\n"
     ]
    }
   ],
   "source": [
    "grid_size = 5\n",
    "n_graphs = 3\n",
    "n_tries = 1000\n",
    "n_edges = 15\n",
    "f = nx.grid_2d_graph(grid_size,grid_size)\n",
    "g_list = generate_connected_graphs(grid_size, n_graphs, n_tries, n_edges)\n",
    "print(len(g_list))\n",
    "print(len(list(f.edges)))\n",
    "for e in g_list:\n",
    "    print(len(list(e.edges)))"
   ]
  },
  {
   "cell_type": "code",
   "execution_count": 9,
   "metadata": {},
   "outputs": [
    {
     "data": {
      "image/png": "[encoded data removed]",
      "text/plain": [
       "<Figure size 216x216 with 1 Axes>"
      ]
     },
     "metadata": {},
     "output_type": "display_data"
    },
    {
     "data": {
      "image/png": "[encoded data removed]",
      "text/plain": [
       "<Figure size 216x216 with 1 Axes>"
      ]
     },
     "metadata": {},
     "output_type": "display_data"
    },
    {
     "data": {
      "image/png": "[encoded data removed]",
      "text/plain": [
       "<Figure size 216x216 with 1 Axes>"
      ]
     },
     "metadata": {},
     "output_type": "display_data"
    }
   ],
   "source": [
    "for e in g_list:\n",
    "    plt.figure(figsize=(3,3))\n",
    "    pos = {(x,y):(y,-x) for x,y in e.nodes()}\n",
    "    nx.draw(e, pos=pos, \n",
    "            node_color='k', \n",
    "            with_labels=False,\n",
    "            node_size=300)\n",
    "    plt.show()"
   ]
  },
  {
   "cell_type": "markdown",
   "metadata": {},
   "source": [
    "# pass graphs through node2vec"
   ]
  },
  {
   "cell_type": "code",
   "execution_count": 13,
   "metadata": {},
   "outputs": [],
   "source": [
    "class node2vec():\n",
    "    \n",
    "    def __init__(self, graph, max_walks, walk_len):\n",
    "\n",
    "        self.graph = graph\n",
    "        \n",
    "        probs = defaultdict(dict)\n",
    "        for node in self.graph.nodes():\n",
    "            probs[node]['probabilities'] = dict()\n",
    "            \n",
    "        self.probs = probs\n",
    "        \n",
    "        # these two parameters bias the exploration towards\n",
    "        # depth or breadth\n",
    "        \n",
    "        self.p = 1 # return parameter - low value of p -> BFS\n",
    "        self.q = 0.8 # runaway parameter - low value of q -> DFS\n",
    "        \n",
    "        self.max_walks = max_walks\n",
    "        self.walk_len = walk_len\n",
    "    \n",
    "    def compute_probabilities(self):\n",
    "        # calculate the biased transition probabilities for the \n",
    "        # random walks of the graph\n",
    "        \n",
    "        G = self.graph\n",
    "        for source_node in G.nodes():\n",
    "            for current_node in G.neighbors(source_node):\n",
    "                probs_ = list()\n",
    "                for destination in G.neighbors(current_node):\n",
    "                    \n",
    "                    # these probabilities will bias the random walks\n",
    "                    if source_node == destination:\n",
    "                        prob_ = G[current_node][destination].get('weight',1) * (1/self.p)\n",
    "                    elif destination in G.neighbors(source_node):\n",
    "                        prob_ = G[current_node][destination].get('weight',1)\n",
    "                    else:\n",
    "                        prob_ = G[current_node][destination].get('weight',1) * (1/self.q)\n",
    "\n",
    "                    probs_.append(prob_)\n",
    "\n",
    "                self.probs[source_node]['probabilities'][current_node] = probs_/np.sum(probs_)\n",
    "    \n",
    "    def generate_random_walks(self):\n",
    "        # purpose here is to define sequences of paths along the graph\n",
    "        # these sequences will later on be embedded in word2vec\n",
    "        \n",
    "        G = self.graph\n",
    "        \n",
    "        walks = list()\n",
    "        for start_node in G.nodes():\n",
    "            for i in range(self.max_walks):\n",
    "                \n",
    "                walk = [start_node]\n",
    "                walk_options = list(G[start_node])\n",
    "                \n",
    "                if len(walk_options)==0:\n",
    "                    break\n",
    "                    \n",
    "                first_step_idx = np.random.choice(len(walk_options))\n",
    "                first_step = walk_options[first_step_idx]\n",
    "                walk.append(first_step)\n",
    "                \n",
    "                for k in range(self.walk_len-2):\n",
    "                    walk_options = list(G[walk[-1]])\n",
    "                    if len(walk_options)==0:\n",
    "                        break\n",
    "                    probabilities = self.probs[walk[-2]]['probabilities'][walk[-1]]\n",
    "                    next_step_idx = np.random.choice(len(walk_options), p=probabilities)\n",
    "                    next_step = walk_options[next_step_idx]\n",
    "                    walk.append(next_step)\n",
    "                \n",
    "                walks.append(walk)\n",
    "        np.random.shuffle(walks)\n",
    "        walks = [list(map(str,walk)) for walk in walks]\n",
    "        \n",
    "        return walks\n",
    "    \n",
    "    def get_walks(self):\n",
    "        \n",
    "        self.compute_probabilities()\n",
    "        return self.generate_random_walks()\n",
    "        "
   ]
  },
  {
   "cell_type": "code",
   "execution_count": 14,
   "metadata": {},
   "outputs": [],
   "source": [
    "n2v_g = node2vec(g_list[0], 3, 5)"
   ]
  },
  {
   "cell_type": "code",
   "execution_count": 15,
   "metadata": {},
   "outputs": [],
   "source": [
    "n2v_g.compute_probabilities()"
   ]
  },
  {
   "cell_type": "code",
   "execution_count": 16,
   "metadata": {},
   "outputs": [
    {
     "data": {
      "image/png": "[encoded data removed]",
      "text/plain": [
       "<Figure size 216x216 with 1 Axes>"
      ]
     },
     "metadata": {},
     "output_type": "display_data"
    },
    {
     "data": {
      "image/png": "[encoded data removed]",
      "text/plain": [
       "<Figure size 216x216 with 1 Axes>"
      ]
     },
     "metadata": {},
     "output_type": "display_data"
    },
    {
     "data": {
      "image/png": "[encoded data removed]",
      "text/plain": [
       "<Figure size 216x216 with 1 Axes>"
      ]
     },
     "metadata": {},
     "output_type": "display_data"
    }
   ],
   "source": [
    "draw_graph(g_list[0])\n",
    "draw_graph(g_list[1])\n",
    "draw_graph(g_list[2])"
   ]
  },
  {
   "cell_type": "code",
   "execution_count": 17,
   "metadata": {},
   "outputs": [
    {
     "data": {
      "text/plain": [
       "{'probabilities': {(0, 1): array([0.44444444, 0.55555556]),\n",
       "  (1, 0): array([0.28571429, 0.35714286, 0.35714286])}}"
      ]
     },
     "execution_count": 17,
     "metadata": {},
     "output_type": "execute_result"
    }
   ],
   "source": [
    "n2v_g.probs[(0,0)]"
   ]
  },
  {
   "cell_type": "code",
   "execution_count": 18,
   "metadata": {},
   "outputs": [],
   "source": [
    "walks = n2v_g.generate_random_walks()"
   ]
  },
  {
   "cell_type": "code",
   "execution_count": 19,
   "metadata": {},
   "outputs": [
    {
     "data": {
      "text/plain": [
       "[['(1, 2)', '(1, 1)', '(1, 2)', '(0, 2)', '(0, 3)'],\n",
       " ['(2, 4)', '(1, 4)', '(2, 4)', '(1, 4)', '(2, 4)'],\n",
       " ['(2, 1)', '(2, 2)', '(3, 2)', '(2, 2)', '(3, 2)'],\n",
       " ['(4, 2)', '(4, 3)', '(4, 2)', '(4, 3)', '(4, 4)'],\n",
       " ['(2, 1)', '(3, 1)', '(2, 1)', '(3, 1)', '(2, 1)'],\n",
       " ['(3, 1)', '(2, 1)', '(2, 2)', '(3, 2)', '(2, 2)'],\n",
       " ['(3, 3)', '(3, 4)', '(3, 3)', '(3, 2)', '(3, 3)'],\n",
       " ['(4, 0)', '(4, 1)', '(4, 2)', '(4, 3)', '(4, 2)'],\n",
       " ['(3, 2)', '(2, 2)', '(3, 2)', '(3, 3)', '(3, 2)'],\n",
       " ['(0, 3)', '(0, 2)', '(1, 2)', '(1, 1)', '(1, 2)'],\n",
       " ['(0, 3)', '(0, 2)', '(0, 3)', '(0, 2)', '(1, 2)'],\n",
       " ['(0, 0)', '(1, 0)', '(1, 1)', '(1, 2)', '(1, 1)'],\n",
       " ['(4, 2)', '(4, 3)', '(4, 4)', '(3, 4)', '(4, 4)'],\n",
       " ['(2, 4)', '(1, 4)', '(2, 4)', '(3, 4)', '(3, 3)'],\n",
       " ['(1, 1)', '(1, 2)', '(2, 2)', '(2, 3)', '(1, 3)'],\n",
       " ['(1, 3)', '(2, 3)', '(2, 2)', '(1, 2)', '(0, 2)'],\n",
       " ['(4, 1)', '(4, 2)', '(4, 3)', '(4, 2)', '(4, 3)'],\n",
       " ['(3, 2)', '(2, 2)', '(1, 2)', '(1, 1)', '(1, 2)'],\n",
       " ['(1, 3)', '(2, 3)', '(1, 3)', '(2, 3)', '(1, 3)'],\n",
       " ['(1, 0)', '(1, 1)', '(1, 0)', '(2, 0)', '(1, 0)'],\n",
       " ['(3, 4)', '(4, 4)', '(4, 3)', '(4, 4)', '(4, 3)'],\n",
       " ['(4, 3)', '(4, 2)', '(4, 3)', '(4, 2)', '(4, 3)'],\n",
       " ['(2, 2)', '(3, 2)', '(2, 2)', '(2, 3)', '(2, 2)'],\n",
       " ['(1, 4)', '(2, 4)', '(1, 4)', '(0, 4)', '(1, 4)'],\n",
       " ['(2, 2)', '(3, 2)', '(2, 2)', '(2, 3)', '(1, 3)'],\n",
       " ['(0, 4)', '(1, 4)', '(2, 4)', '(3, 4)', '(3, 3)'],\n",
       " ['(1, 2)', '(1, 1)', '(1, 0)', '(0, 0)', '(0, 1)'],\n",
       " ['(0, 4)', '(1, 4)', '(2, 4)', '(1, 4)', '(2, 4)'],\n",
       " ['(1, 1)', '(1, 0)', '(1, 1)', '(1, 2)', '(1, 1)'],\n",
       " ['(3, 1)', '(2, 1)', '(2, 2)', '(3, 2)', '(2, 2)'],\n",
       " ['(3, 0)', '(4, 0)', '(4, 1)', '(4, 0)', '(4, 1)'],\n",
       " ['(4, 2)', '(4, 1)', '(4, 0)', '(3, 0)', '(4, 0)'],\n",
       " ['(2, 0)', '(1, 0)', '(2, 0)', '(1, 0)', '(1, 1)'],\n",
       " ['(2, 0)', '(1, 0)', '(1, 1)', '(1, 2)', '(0, 2)'],\n",
       " ['(3, 1)', '(2, 1)', '(3, 1)', '(2, 1)', '(3, 1)'],\n",
       " ['(4, 3)', '(4, 4)', '(4, 3)', '(4, 4)', '(3, 4)'],\n",
       " ['(4, 4)', '(4, 3)', '(4, 4)', '(3, 4)', '(3, 3)'],\n",
       " ['(1, 0)', '(1, 1)', '(1, 0)', '(2, 0)', '(1, 0)'],\n",
       " ['(3, 3)', '(3, 2)', '(2, 2)', '(3, 2)', '(3, 3)'],\n",
       " ['(4, 0)', '(4, 1)', '(4, 2)', '(4, 3)', '(4, 2)'],\n",
       " ['(4, 1)', '(4, 2)', '(4, 3)', '(4, 4)', '(3, 4)'],\n",
       " ['(0, 1)', '(0, 2)', '(0, 3)', '(0, 2)', '(0, 3)'],\n",
       " ['(1, 3)', '(2, 3)', '(1, 3)', '(2, 3)', '(1, 3)'],\n",
       " ['(0, 0)', '(0, 1)', '(0, 2)', '(0, 1)', '(0, 2)'],\n",
       " ['(3, 0)', '(4, 0)', '(3, 0)', '(4, 0)', '(4, 1)'],\n",
       " ['(4, 3)', '(4, 2)', '(4, 3)', '(4, 2)', '(4, 1)'],\n",
       " ['(1, 4)', '(2, 4)', '(3, 4)', '(2, 4)', '(3, 4)'],\n",
       " ['(2, 3)', '(2, 2)', '(1, 2)', '(1, 1)', '(1, 2)'],\n",
       " ['(3, 4)', '(4, 4)', '(3, 4)', '(3, 3)', '(3, 2)'],\n",
       " ['(3, 3)', '(3, 4)', '(3, 3)', '(3, 2)', '(3, 3)'],\n",
       " ['(2, 2)', '(1, 2)', '(1, 1)', '(1, 2)', '(1, 1)'],\n",
       " ['(1, 1)', '(1, 2)', '(2, 2)', '(1, 2)', '(2, 2)'],\n",
       " ['(0, 2)', '(0, 3)', '(0, 2)', '(0, 1)', '(0, 2)'],\n",
       " ['(0, 3)', '(0, 2)', '(0, 1)', '(0, 2)', '(1, 2)'],\n",
       " ['(3, 4)', '(3, 3)', '(3, 2)', '(2, 2)', '(2, 1)'],\n",
       " ['(0, 0)', '(1, 0)', '(1, 1)', '(1, 0)', '(1, 1)'],\n",
       " ['(4, 4)', '(3, 4)', '(4, 4)', '(4, 3)', '(4, 2)'],\n",
       " ['(1, 0)', '(2, 0)', '(1, 0)', '(2, 0)', '(1, 0)'],\n",
       " ['(1, 4)', '(0, 4)', '(1, 4)', '(0, 4)', '(1, 4)'],\n",
       " ['(0, 1)', '(0, 0)', '(1, 0)', '(2, 0)', '(1, 0)'],\n",
       " ['(4, 1)', '(4, 0)', '(4, 1)', '(4, 2)', '(4, 1)'],\n",
       " ['(3, 2)', '(2, 2)', '(1, 2)', '(1, 1)', '(1, 2)'],\n",
       " ['(4, 4)', '(3, 4)', '(2, 4)', '(1, 4)', '(0, 4)'],\n",
       " ['(2, 3)', '(2, 2)', '(3, 2)', '(2, 2)', '(2, 3)'],\n",
       " ['(0, 2)', '(0, 3)', '(0, 2)', '(0, 3)', '(0, 2)'],\n",
       " ['(3, 0)', '(4, 0)', '(4, 1)', '(4, 0)', '(3, 0)'],\n",
       " ['(2, 0)', '(1, 0)', '(1, 1)', '(1, 2)', '(2, 2)'],\n",
       " ['(0, 4)', '(1, 4)', '(0, 4)', '(1, 4)', '(0, 4)'],\n",
       " ['(2, 3)', '(2, 2)', '(1, 2)', '(2, 2)', '(2, 1)'],\n",
       " ['(0, 2)', '(0, 3)', '(0, 2)', '(0, 1)', '(0, 0)'],\n",
       " ['(0, 1)', '(0, 2)', '(0, 3)', '(0, 2)', '(1, 2)'],\n",
       " ['(4, 0)', '(4, 1)', '(4, 2)', '(4, 1)', '(4, 2)'],\n",
       " ['(1, 2)', '(2, 2)', '(2, 1)', '(3, 1)', '(2, 1)'],\n",
       " ['(2, 1)', '(2, 2)', '(3, 2)', '(2, 2)', '(2, 1)'],\n",
       " ['(2, 4)', '(1, 4)', '(0, 4)', '(1, 4)', '(0, 4)']]"
      ]
     },
     "execution_count": 19,
     "metadata": {},
     "output_type": "execute_result"
    }
   ],
   "source": [
    "walks"
   ]
  },
  {
   "cell_type": "markdown",
   "metadata": {},
   "source": [
    "### now try to embed the sequences with word2vec\n",
    "* plot one embedding per model\n",
    "* check if the same maze run different times gives similar embeddings\n",
    "* is there something better than t-sne to plot the embeddings"
   ]
  },
  {
   "cell_type": "code",
   "execution_count": 20,
   "metadata": {},
   "outputs": [],
   "source": [
    "model = Word2Vec(walks, vector_size=128, window=5, min_count=0, sg=1, workers=1)"
   ]
  },
  {
   "cell_type": "code",
   "execution_count": 21,
   "metadata": {},
   "outputs": [],
   "source": [
    "node_embeddings = model.wv.vectors"
   ]
  },
  {
   "cell_type": "code",
   "execution_count": 22,
   "metadata": {},
   "outputs": [],
   "source": [
    "tsne = TSNE(n_components=2)\n",
    "node_embeddings_2d = tsne.fit_transform(node_embeddings)"
   ]
  },
  {
   "cell_type": "code",
   "execution_count": 23,
   "metadata": {},
   "outputs": [
    {
     "data": {
      "text/plain": [
       "(25, 2)"
      ]
     },
     "execution_count": 23,
     "metadata": {},
     "output_type": "execute_result"
    }
   ],
   "source": [
    "node_embeddings_2d.shape"
   ]
  },
  {
   "cell_type": "code",
   "execution_count": 24,
   "metadata": {},
   "outputs": [
    {
     "data": {
      "image/png": "[encoded data removed]",
      "text/plain": [
       "<Figure size 720x576 with 1 Axes>"
      ]
     },
     "metadata": {},
     "output_type": "display_data"
    }
   ],
   "source": [
    "plt.figure(figsize=(10,8))\n",
    "plt.scatter(node_embeddings_2d[:,0],\n",
    "            node_embeddings_2d[:,1], c = 'Blue')\n",
    "plt.show()"
   ]
  },
  {
   "cell_type": "markdown",
   "metadata": {},
   "source": [
    "# embed a set of graphs"
   ]
  },
  {
   "cell_type": "code",
   "execution_count": 118,
   "metadata": {},
   "outputs": [],
   "source": [
    "def paint_nodes(G, r_pos, p_pos, fig_size):\n",
    "    plt.figure(figsize=(fig_size[0],fig_size[1]))\n",
    "    \n",
    "    nc = []\n",
    "    for node in G.nodes:\n",
    "        if node == r_pos:\n",
    "            nc.append('g')\n",
    "        if node == p_pos:\n",
    "            nc.append('r')\n",
    "        else:\n",
    "            nc.append('k')\n",
    "    \n",
    "    del nc[-1]\n",
    "\n",
    "    pos = {(x,y):(y,-x) for x,y in G.nodes()}\n",
    "    nx.draw(G, pos = pos, \n",
    "            node_color = nc, \n",
    "            with_labels = False,\n",
    "            node_size=300)"
   ]
  },
  {
   "cell_type": "code",
   "execution_count": 176,
   "metadata": {},
   "outputs": [],
   "source": [
    "grid_size = 5\n",
    "n_graphs = 2\n",
    "n_tries = 100\n",
    "n_edges = 15\n",
    "\n",
    "f = nx.grid_2d_graph(grid_size, grid_size)\n",
    "g1 = generate_connected_graphs(grid_size, 1, n_tries, 0)[0]\n",
    "g2 = generate_connected_graphs(grid_size, 1, n_tries, 0)[0]"
   ]
  },
  {
   "cell_type": "code",
   "execution_count": 182,
   "metadata": {},
   "outputs": [
    {
     "data": {
      "image/png": "[encoded data removed]",
      "text/plain": [
       "<Figure size 216x216 with 1 Axes>"
      ]
     },
     "metadata": {},
     "output_type": "display_data"
    },
    {
     "data": {
      "image/png": "[encoded data removed]",
      "text/plain": [
       "<Figure size 216x216 with 1 Axes>"
      ]
     },
     "metadata": {},
     "output_type": "display_data"
    }
   ],
   "source": [
    "for g in g_list:\n",
    "    draw_graph(g)"
   ]
  },
  {
   "cell_type": "code",
   "execution_count": 181,
   "metadata": {},
   "outputs": [
    {
     "ename": "NetworkXError",
     "evalue": "The edge (0, 2)-(0, 3) is not in the graph",
     "output_type": "error",
     "traceback": [
      "\u001b[0;31m---------------------------------------------------------------------------\u001b[0m",
      "\u001b[0;31mKeyError\u001b[0m                                  Traceback (most recent call last)",
      "\u001b[0;32m~/anaconda/envs/py36/lib/python3.6/site-packages/networkx/classes/graph.py\u001b[0m in \u001b[0;36mremove_edge\u001b[0;34m(self, u, v)\u001b[0m\n\u001b[1;32m   1013\u001b[0m         \u001b[0;32mtry\u001b[0m\u001b[0;34m:\u001b[0m\u001b[0;34m\u001b[0m\u001b[0;34m\u001b[0m\u001b[0m\n\u001b[0;32m-> 1014\u001b[0;31m             \u001b[0;32mdel\u001b[0m \u001b[0mself\u001b[0m\u001b[0;34m.\u001b[0m\u001b[0m_adj\u001b[0m\u001b[0;34m[\u001b[0m\u001b[0mu\u001b[0m\u001b[0;34m]\u001b[0m\u001b[0;34m[\u001b[0m\u001b[0mv\u001b[0m\u001b[0;34m]\u001b[0m\u001b[0;34m\u001b[0m\u001b[0;34m\u001b[0m\u001b[0m\n\u001b[0m\u001b[1;32m   1015\u001b[0m             \u001b[0;32mif\u001b[0m \u001b[0mu\u001b[0m \u001b[0;34m!=\u001b[0m \u001b[0mv\u001b[0m\u001b[0;34m:\u001b[0m  \u001b[0;31m# self-loop needs only one entry removed\u001b[0m\u001b[0;34m\u001b[0m\u001b[0;34m\u001b[0m\u001b[0m\n",
      "\u001b[0;31mKeyError\u001b[0m: (0, 3)",
      "\nDuring handling of the above exception, another exception occurred:\n",
      "\u001b[0;31mNetworkXError\u001b[0m                             Traceback (most recent call last)",
      "\u001b[0;32m<ipython-input-181-2c352565c4a4>\u001b[0m in \u001b[0;36m<module>\u001b[0;34m()\u001b[0m\n\u001b[1;32m      1\u001b[0m \u001b[0;32mfor\u001b[0m \u001b[0mi\u001b[0m \u001b[0;32min\u001b[0m \u001b[0mrange\u001b[0m\u001b[0;34m(\u001b[0m\u001b[0mgrid_size\u001b[0m\u001b[0;34m)\u001b[0m\u001b[0;34m:\u001b[0m\u001b[0;34m\u001b[0m\u001b[0;34m\u001b[0m\u001b[0m\n\u001b[0;32m----> 2\u001b[0;31m     \u001b[0mg2\u001b[0m\u001b[0;34m.\u001b[0m\u001b[0mremove_edge\u001b[0m\u001b[0;34m(\u001b[0m\u001b[0;34m(\u001b[0m\u001b[0mi\u001b[0m\u001b[0;34m,\u001b[0m\u001b[0;36m2\u001b[0m\u001b[0;34m)\u001b[0m\u001b[0;34m,\u001b[0m\u001b[0;34m(\u001b[0m\u001b[0mi\u001b[0m\u001b[0;34m,\u001b[0m\u001b[0;36m3\u001b[0m\u001b[0;34m)\u001b[0m\u001b[0;34m)\u001b[0m\u001b[0;34m\u001b[0m\u001b[0;34m\u001b[0m\u001b[0m\n\u001b[0m\u001b[1;32m      3\u001b[0m \u001b[0;31m#g2.add_edge((2,2),(2,3))\u001b[0m\u001b[0;34m\u001b[0m\u001b[0;34m\u001b[0m\u001b[0;34m\u001b[0m\u001b[0m\n\u001b[1;32m      4\u001b[0m \u001b[0mdraw_graph\u001b[0m\u001b[0;34m(\u001b[0m\u001b[0mg\u001b[0m\u001b[0;34m)\u001b[0m\u001b[0;34m\u001b[0m\u001b[0;34m\u001b[0m\u001b[0m\n",
      "\u001b[0;32m~/anaconda/envs/py36/lib/python3.6/site-packages/networkx/classes/graph.py\u001b[0m in \u001b[0;36mremove_edge\u001b[0;34m(self, u, v)\u001b[0m\n\u001b[1;32m   1016\u001b[0m                 \u001b[0;32mdel\u001b[0m \u001b[0mself\u001b[0m\u001b[0;34m.\u001b[0m\u001b[0m_adj\u001b[0m\u001b[0;34m[\u001b[0m\u001b[0mv\u001b[0m\u001b[0;34m]\u001b[0m\u001b[0;34m[\u001b[0m\u001b[0mu\u001b[0m\u001b[0;34m]\u001b[0m\u001b[0;34m\u001b[0m\u001b[0;34m\u001b[0m\u001b[0m\n\u001b[1;32m   1017\u001b[0m         \u001b[0;32mexcept\u001b[0m \u001b[0mKeyError\u001b[0m\u001b[0;34m:\u001b[0m\u001b[0;34m\u001b[0m\u001b[0;34m\u001b[0m\u001b[0m\n\u001b[0;32m-> 1018\u001b[0;31m             \u001b[0;32mraise\u001b[0m \u001b[0mNetworkXError\u001b[0m\u001b[0;34m(\u001b[0m\u001b[0;34m\"The edge %s-%s is not in the graph\"\u001b[0m \u001b[0;34m%\u001b[0m \u001b[0;34m(\u001b[0m\u001b[0mu\u001b[0m\u001b[0;34m,\u001b[0m \u001b[0mv\u001b[0m\u001b[0;34m)\u001b[0m\u001b[0;34m)\u001b[0m\u001b[0;34m\u001b[0m\u001b[0;34m\u001b[0m\u001b[0m\n\u001b[0m\u001b[1;32m   1019\u001b[0m \u001b[0;34m\u001b[0m\u001b[0m\n\u001b[1;32m   1020\u001b[0m     \u001b[0;32mdef\u001b[0m \u001b[0mremove_edges_from\u001b[0m\u001b[0;34m(\u001b[0m\u001b[0mself\u001b[0m\u001b[0;34m,\u001b[0m \u001b[0mebunch\u001b[0m\u001b[0;34m)\u001b[0m\u001b[0;34m:\u001b[0m\u001b[0;34m\u001b[0m\u001b[0;34m\u001b[0m\u001b[0m\n",
      "\u001b[0;31mNetworkXError\u001b[0m: The edge (0, 2)-(0, 3) is not in the graph"
     ]
    }
   ],
   "source": [
    "for i in range(grid_size):\n",
    "    g2.remove_edge((i,2),(i,3))\n"
   ]
  },
  {
   "cell_type": "code",
   "execution_count": 183,
   "metadata": {},
   "outputs": [
    {
     "data": {
      "image/png": "[encoded data removed]",
      "text/plain": [
       "<Figure size 216x216 with 1 Axes>"
      ]
     },
     "metadata": {},
     "output_type": "display_data"
    }
   ],
   "source": [
    "g2.add_edge((2,2),(2,3))\n",
    "draw_graph(g)"
   ]
  },
  {
   "cell_type": "code",
   "execution_count": 184,
   "metadata": {},
   "outputs": [],
   "source": [
    "g_list = [g1, g2]"
   ]
  },
  {
   "cell_type": "code",
   "execution_count": 197,
   "metadata": {},
   "outputs": [],
   "source": [
    "embs = []\n",
    "tsne = TSNE(n_components = 2)\n",
    "colors = ['r', 'g', 'b']\n",
    "walks = []\n",
    "\n",
    "# get the random walks\n",
    "for i,g in enumerate(g_list):\n",
    "    n2v_g = node2vec(g, 100, 20)\n",
    "    walks.append(n2v_g.get_walks())\n",
    "\n",
    "# flatten list\n",
    "walks2 = []\n",
    "for w in walks:\n",
    "    for e in w:\n",
    "        walks2.append(e)"
   ]
  },
  {
   "cell_type": "code",
   "execution_count": 198,
   "metadata": {},
   "outputs": [],
   "source": [
    "w2v_m = Word2Vec(walks2, vector_size=100, window=5, min_count=1, sg=1, workers=1)\n",
    "node_embeddings = w2v_m.wv.vectors\n",
    "node_ids  = w2v_m.wv.index_to_key"
   ]
  },
  {
   "cell_type": "code",
   "execution_count": 199,
   "metadata": {},
   "outputs": [
    {
     "data": {
      "image/png": "[encoded data removed]",
      "text/plain": [
       "<Figure size 720x576 with 1 Axes>"
      ]
     },
     "metadata": {},
     "output_type": "display_data"
    }
   ],
   "source": [
    "embs = tsne.fit_transform(node_embeddings)\n",
    "plt.figure(figsize=(10,8))\n",
    "for i,e in enumerate(node_ids):\n",
    "    plt.scatter(embs[i,0], embs[i,1])\n",
    "    plt.text(embs[i,0]+0.3, embs[i,1]+0.3, e, fontsize=9)\n",
    "plt.show()"
   ]
  },
  {
   "cell_type": "code",
   "execution_count": 200,
   "metadata": {},
   "outputs": [
    {
     "data": {
      "image/png": "[encoded data removed]",
      "text/plain": [
       "<Figure size 720x576 with 1 Axes>"
      ]
     },
     "metadata": {},
     "output_type": "display_data"
    },
    {
     "data": {
      "image/png": "[encoded data removed]",
      "text/plain": [
       "<Figure size 720x576 with 1 Axes>"
      ]
     },
     "metadata": {},
     "output_type": "display_data"
    }
   ],
   "source": [
    "for w in walks:\n",
    "    w2v_m = Word2Vec(w, vector_size=100, window=5, min_count=1, sg=1, workers=1)\n",
    "    node_embeddings = w2v_m.wv.vectors\n",
    "    node_ids  = w2v_m.wv.index_to_key\n",
    "    embs = tsne.fit_transform(node_embeddings)\n",
    "    plt.figure(figsize=(10,8))\n",
    "    for i,e in enumerate(node_ids):\n",
    "        plt.scatter(embs[i,0], embs[i,1])\n",
    "        plt.text(embs[i,0]+0.3, embs[i,1]+0.3, e, fontsize=9)\n",
    "    plt.show()"
   ]
  },
  {
   "cell_type": "code",
   "execution_count": 201,
   "metadata": {},
   "outputs": [
    {
     "ename": "ValueError",
     "evalue": "'c' argument has 24 elements, which is inconsistent with 'x' and 'y' with size 25.",
     "output_type": "error",
     "traceback": [
      "\u001b[0;31m---------------------------------------------------------------------------\u001b[0m",
      "\u001b[0;31mValueError\u001b[0m                                Traceback (most recent call last)",
      "\u001b[0;32m<ipython-input-201-d3abb7e1a9ba>\u001b[0m in \u001b[0;36m<module>\u001b[0;34m()\u001b[0m\n\u001b[1;32m      1\u001b[0m \u001b[0;32mfor\u001b[0m \u001b[0mg\u001b[0m \u001b[0;32min\u001b[0m \u001b[0mg_list\u001b[0m\u001b[0;34m:\u001b[0m\u001b[0;34m\u001b[0m\u001b[0;34m\u001b[0m\u001b[0m\n\u001b[0;32m----> 2\u001b[0;31m     \u001b[0mpaint_nodes\u001b[0m\u001b[0;34m(\u001b[0m\u001b[0mg\u001b[0m\u001b[0;34m,\u001b[0m \u001b[0;34m(\u001b[0m\u001b[0;36m3\u001b[0m\u001b[0;34m,\u001b[0m\u001b[0;36m5\u001b[0m\u001b[0;34m)\u001b[0m\u001b[0;34m,\u001b[0m \u001b[0;32mFalse\u001b[0m\u001b[0;34m,\u001b[0m \u001b[0;34m[\u001b[0m\u001b[0;36m3\u001b[0m\u001b[0;34m,\u001b[0m\u001b[0;36m3\u001b[0m\u001b[0;34m]\u001b[0m\u001b[0;34m)\u001b[0m\u001b[0;34m\u001b[0m\u001b[0;34m\u001b[0m\u001b[0m\n\u001b[0m",
      "\u001b[0;32m<ipython-input-118-f4b56b6b79e7>\u001b[0m in \u001b[0;36mpaint_nodes\u001b[0;34m(G, r_pos, p_pos, fig_size)\u001b[0m\n\u001b[1;32m     17\u001b[0m             \u001b[0mnode_color\u001b[0m \u001b[0;34m=\u001b[0m \u001b[0mnc\u001b[0m\u001b[0;34m,\u001b[0m\u001b[0;34m\u001b[0m\u001b[0;34m\u001b[0m\u001b[0m\n\u001b[1;32m     18\u001b[0m             \u001b[0mwith_labels\u001b[0m \u001b[0;34m=\u001b[0m \u001b[0;32mFalse\u001b[0m\u001b[0;34m,\u001b[0m\u001b[0;34m\u001b[0m\u001b[0;34m\u001b[0m\u001b[0m\n\u001b[0;32m---> 19\u001b[0;31m             node_size=300)\n\u001b[0m",
      "\u001b[0;32m~/anaconda/envs/py36/lib/python3.6/site-packages/networkx/drawing/nx_pylab.py\u001b[0m in \u001b[0;36mdraw\u001b[0;34m(G, pos, ax, **kwds)\u001b[0m\n\u001b[1;32m    123\u001b[0m         \u001b[0mkwds\u001b[0m\u001b[0;34m[\u001b[0m\u001b[0;34m'with_labels'\u001b[0m\u001b[0;34m]\u001b[0m \u001b[0;34m=\u001b[0m \u001b[0;34m'labels'\u001b[0m \u001b[0;32min\u001b[0m \u001b[0mkwds\u001b[0m\u001b[0;34m\u001b[0m\u001b[0;34m\u001b[0m\u001b[0m\n\u001b[1;32m    124\u001b[0m \u001b[0;34m\u001b[0m\u001b[0m\n\u001b[0;32m--> 125\u001b[0;31m     \u001b[0mdraw_networkx\u001b[0m\u001b[0;34m(\u001b[0m\u001b[0mG\u001b[0m\u001b[0;34m,\u001b[0m \u001b[0mpos\u001b[0m\u001b[0;34m=\u001b[0m\u001b[0mpos\u001b[0m\u001b[0;34m,\u001b[0m \u001b[0max\u001b[0m\u001b[0;34m=\u001b[0m\u001b[0max\u001b[0m\u001b[0;34m,\u001b[0m \u001b[0;34m**\u001b[0m\u001b[0mkwds\u001b[0m\u001b[0;34m)\u001b[0m\u001b[0;34m\u001b[0m\u001b[0;34m\u001b[0m\u001b[0m\n\u001b[0m\u001b[1;32m    126\u001b[0m     \u001b[0max\u001b[0m\u001b[0;34m.\u001b[0m\u001b[0mset_axis_off\u001b[0m\u001b[0;34m(\u001b[0m\u001b[0;34m)\u001b[0m\u001b[0;34m\u001b[0m\u001b[0;34m\u001b[0m\u001b[0m\n\u001b[1;32m    127\u001b[0m     \u001b[0mplt\u001b[0m\u001b[0;34m.\u001b[0m\u001b[0mdraw_if_interactive\u001b[0m\u001b[0;34m(\u001b[0m\u001b[0;34m)\u001b[0m\u001b[0;34m\u001b[0m\u001b[0;34m\u001b[0m\u001b[0m\n",
      "\u001b[0;32m~/anaconda/envs/py36/lib/python3.6/site-packages/networkx/drawing/nx_pylab.py\u001b[0m in \u001b[0;36mdraw_networkx\u001b[0;34m(G, pos, arrows, with_labels, **kwds)\u001b[0m\n\u001b[1;32m    272\u001b[0m         \u001b[0mpos\u001b[0m \u001b[0;34m=\u001b[0m \u001b[0mnx\u001b[0m\u001b[0;34m.\u001b[0m\u001b[0mdrawing\u001b[0m\u001b[0;34m.\u001b[0m\u001b[0mspring_layout\u001b[0m\u001b[0;34m(\u001b[0m\u001b[0mG\u001b[0m\u001b[0;34m)\u001b[0m  \u001b[0;31m# default to spring layout\u001b[0m\u001b[0;34m\u001b[0m\u001b[0;34m\u001b[0m\u001b[0m\n\u001b[1;32m    273\u001b[0m \u001b[0;34m\u001b[0m\u001b[0m\n\u001b[0;32m--> 274\u001b[0;31m     \u001b[0mnode_collection\u001b[0m \u001b[0;34m=\u001b[0m \u001b[0mdraw_networkx_nodes\u001b[0m\u001b[0;34m(\u001b[0m\u001b[0mG\u001b[0m\u001b[0;34m,\u001b[0m \u001b[0mpos\u001b[0m\u001b[0;34m,\u001b[0m \u001b[0;34m**\u001b[0m\u001b[0mkwds\u001b[0m\u001b[0;34m)\u001b[0m\u001b[0;34m\u001b[0m\u001b[0;34m\u001b[0m\u001b[0m\n\u001b[0m\u001b[1;32m    275\u001b[0m     \u001b[0medge_collection\u001b[0m \u001b[0;34m=\u001b[0m \u001b[0mdraw_networkx_edges\u001b[0m\u001b[0;34m(\u001b[0m\u001b[0mG\u001b[0m\u001b[0;34m,\u001b[0m \u001b[0mpos\u001b[0m\u001b[0;34m,\u001b[0m \u001b[0marrows\u001b[0m\u001b[0;34m=\u001b[0m\u001b[0marrows\u001b[0m\u001b[0;34m,\u001b[0m \u001b[0;34m**\u001b[0m\u001b[0mkwds\u001b[0m\u001b[0;34m)\u001b[0m\u001b[0;34m\u001b[0m\u001b[0;34m\u001b[0m\u001b[0m\n\u001b[1;32m    276\u001b[0m     \u001b[0;32mif\u001b[0m \u001b[0mwith_labels\u001b[0m\u001b[0;34m:\u001b[0m\u001b[0;34m\u001b[0m\u001b[0;34m\u001b[0m\u001b[0m\n",
      "\u001b[0;32m~/anaconda/envs/py36/lib/python3.6/site-packages/networkx/drawing/nx_pylab.py\u001b[0m in \u001b[0;36mdraw_networkx_nodes\u001b[0;34m(G, pos, nodelist, node_size, node_color, node_shape, alpha, cmap, vmin, vmax, ax, linewidths, edgecolors, label, **kwds)\u001b[0m\n\u001b[1;32m    415\u001b[0m                                  \u001b[0mlinewidths\u001b[0m\u001b[0;34m=\u001b[0m\u001b[0mlinewidths\u001b[0m\u001b[0;34m,\u001b[0m\u001b[0;34m\u001b[0m\u001b[0;34m\u001b[0m\u001b[0m\n\u001b[1;32m    416\u001b[0m                                  \u001b[0medgecolors\u001b[0m\u001b[0;34m=\u001b[0m\u001b[0medgecolors\u001b[0m\u001b[0;34m,\u001b[0m\u001b[0;34m\u001b[0m\u001b[0;34m\u001b[0m\u001b[0m\n\u001b[0;32m--> 417\u001b[0;31m                                  label=label)\n\u001b[0m\u001b[1;32m    418\u001b[0m     ax.tick_params(\n\u001b[1;32m    419\u001b[0m         \u001b[0maxis\u001b[0m\u001b[0;34m=\u001b[0m\u001b[0;34m'both'\u001b[0m\u001b[0;34m,\u001b[0m\u001b[0;34m\u001b[0m\u001b[0;34m\u001b[0m\u001b[0m\n",
      "\u001b[0;32m~/anaconda/envs/py36/lib/python3.6/site-packages/matplotlib/__init__.py\u001b[0m in \u001b[0;36minner\u001b[0;34m(ax, data, *args, **kwargs)\u001b[0m\n\u001b[1;32m   1563\u001b[0m     \u001b[0;32mdef\u001b[0m \u001b[0minner\u001b[0m\u001b[0;34m(\u001b[0m\u001b[0max\u001b[0m\u001b[0;34m,\u001b[0m \u001b[0;34m*\u001b[0m\u001b[0margs\u001b[0m\u001b[0;34m,\u001b[0m \u001b[0mdata\u001b[0m\u001b[0;34m=\u001b[0m\u001b[0;32mNone\u001b[0m\u001b[0;34m,\u001b[0m \u001b[0;34m**\u001b[0m\u001b[0mkwargs\u001b[0m\u001b[0;34m)\u001b[0m\u001b[0;34m:\u001b[0m\u001b[0;34m\u001b[0m\u001b[0;34m\u001b[0m\u001b[0m\n\u001b[1;32m   1564\u001b[0m         \u001b[0;32mif\u001b[0m \u001b[0mdata\u001b[0m \u001b[0;32mis\u001b[0m \u001b[0;32mNone\u001b[0m\u001b[0;34m:\u001b[0m\u001b[0;34m\u001b[0m\u001b[0;34m\u001b[0m\u001b[0m\n\u001b[0;32m-> 1565\u001b[0;31m             \u001b[0;32mreturn\u001b[0m \u001b[0mfunc\u001b[0m\u001b[0;34m(\u001b[0m\u001b[0max\u001b[0m\u001b[0;34m,\u001b[0m \u001b[0;34m*\u001b[0m\u001b[0mmap\u001b[0m\u001b[0;34m(\u001b[0m\u001b[0msanitize_sequence\u001b[0m\u001b[0;34m,\u001b[0m \u001b[0margs\u001b[0m\u001b[0;34m)\u001b[0m\u001b[0;34m,\u001b[0m \u001b[0;34m**\u001b[0m\u001b[0mkwargs\u001b[0m\u001b[0;34m)\u001b[0m\u001b[0;34m\u001b[0m\u001b[0;34m\u001b[0m\u001b[0m\n\u001b[0m\u001b[1;32m   1566\u001b[0m \u001b[0;34m\u001b[0m\u001b[0m\n\u001b[1;32m   1567\u001b[0m         \u001b[0mbound\u001b[0m \u001b[0;34m=\u001b[0m \u001b[0mnew_sig\u001b[0m\u001b[0;34m.\u001b[0m\u001b[0mbind\u001b[0m\u001b[0;34m(\u001b[0m\u001b[0max\u001b[0m\u001b[0;34m,\u001b[0m \u001b[0;34m*\u001b[0m\u001b[0margs\u001b[0m\u001b[0;34m,\u001b[0m \u001b[0;34m**\u001b[0m\u001b[0mkwargs\u001b[0m\u001b[0;34m)\u001b[0m\u001b[0;34m\u001b[0m\u001b[0;34m\u001b[0m\u001b[0m\n",
      "\u001b[0;32m~/anaconda/envs/py36/lib/python3.6/site-packages/matplotlib/cbook/deprecation.py\u001b[0m in \u001b[0;36mwrapper\u001b[0;34m(*args, **kwargs)\u001b[0m\n\u001b[1;32m    356\u001b[0m                 \u001b[0;34mf\"%(removal)s.  If any parameter follows {name!r}, they \"\u001b[0m\u001b[0;34m\u001b[0m\u001b[0;34m\u001b[0m\u001b[0m\n\u001b[1;32m    357\u001b[0m                 f\"should be pass as keyword, not positionally.\")\n\u001b[0;32m--> 358\u001b[0;31m         \u001b[0;32mreturn\u001b[0m \u001b[0mfunc\u001b[0m\u001b[0;34m(\u001b[0m\u001b[0;34m*\u001b[0m\u001b[0margs\u001b[0m\u001b[0;34m,\u001b[0m \u001b[0;34m**\u001b[0m\u001b[0mkwargs\u001b[0m\u001b[0;34m)\u001b[0m\u001b[0;34m\u001b[0m\u001b[0;34m\u001b[0m\u001b[0m\n\u001b[0m\u001b[1;32m    359\u001b[0m \u001b[0;34m\u001b[0m\u001b[0m\n\u001b[1;32m    360\u001b[0m     \u001b[0;32mreturn\u001b[0m \u001b[0mwrapper\u001b[0m\u001b[0;34m\u001b[0m\u001b[0;34m\u001b[0m\u001b[0m\n",
      "\u001b[0;32m~/anaconda/envs/py36/lib/python3.6/site-packages/matplotlib/axes/_axes.py\u001b[0m in \u001b[0;36mscatter\u001b[0;34m(self, x, y, s, c, marker, cmap, norm, vmin, vmax, alpha, linewidths, verts, edgecolors, plotnonfinite, **kwargs)\u001b[0m\n\u001b[1;32m   4390\u001b[0m             self._parse_scatter_color_args(\n\u001b[1;32m   4391\u001b[0m                 \u001b[0mc\u001b[0m\u001b[0;34m,\u001b[0m \u001b[0medgecolors\u001b[0m\u001b[0;34m,\u001b[0m \u001b[0mkwargs\u001b[0m\u001b[0;34m,\u001b[0m \u001b[0mx\u001b[0m\u001b[0;34m.\u001b[0m\u001b[0msize\u001b[0m\u001b[0;34m,\u001b[0m\u001b[0;34m\u001b[0m\u001b[0;34m\u001b[0m\u001b[0m\n\u001b[0;32m-> 4392\u001b[0;31m                 get_next_color_func=self._get_patches_for_fill.get_next_color)\n\u001b[0m\u001b[1;32m   4393\u001b[0m \u001b[0;34m\u001b[0m\u001b[0m\n\u001b[1;32m   4394\u001b[0m         \u001b[0;32mif\u001b[0m \u001b[0mplotnonfinite\u001b[0m \u001b[0;32mand\u001b[0m \u001b[0mcolors\u001b[0m \u001b[0;32mis\u001b[0m \u001b[0;32mNone\u001b[0m\u001b[0;34m:\u001b[0m\u001b[0;34m\u001b[0m\u001b[0;34m\u001b[0m\u001b[0m\n",
      "\u001b[0;32m~/anaconda/envs/py36/lib/python3.6/site-packages/matplotlib/axes/_axes.py\u001b[0m in \u001b[0;36m_parse_scatter_color_args\u001b[0;34m(c, edgecolors, kwargs, xsize, get_next_color_func)\u001b[0m\n\u001b[1;32m   4242\u001b[0m                     \u001b[0;31m# NB: remember that a single color is also acceptable.\u001b[0m\u001b[0;34m\u001b[0m\u001b[0;34m\u001b[0m\u001b[0;34m\u001b[0m\u001b[0m\n\u001b[1;32m   4243\u001b[0m                     \u001b[0;31m# Besides *colors* will be an empty array if c == 'none'.\u001b[0m\u001b[0;34m\u001b[0m\u001b[0;34m\u001b[0m\u001b[0;34m\u001b[0m\u001b[0m\n\u001b[0;32m-> 4244\u001b[0;31m                     \u001b[0;32mraise\u001b[0m \u001b[0minvalid_shape_exception\u001b[0m\u001b[0;34m(\u001b[0m\u001b[0mlen\u001b[0m\u001b[0;34m(\u001b[0m\u001b[0mcolors\u001b[0m\u001b[0;34m)\u001b[0m\u001b[0;34m,\u001b[0m \u001b[0mxsize\u001b[0m\u001b[0;34m)\u001b[0m\u001b[0;34m\u001b[0m\u001b[0;34m\u001b[0m\u001b[0m\n\u001b[0m\u001b[1;32m   4245\u001b[0m         \u001b[0;32melse\u001b[0m\u001b[0;34m:\u001b[0m\u001b[0;34m\u001b[0m\u001b[0;34m\u001b[0m\u001b[0m\n\u001b[1;32m   4246\u001b[0m             \u001b[0mcolors\u001b[0m \u001b[0;34m=\u001b[0m \u001b[0;32mNone\u001b[0m  \u001b[0;31m# use cmap, norm after collection is created\u001b[0m\u001b[0;34m\u001b[0m\u001b[0;34m\u001b[0m\u001b[0m\n",
      "\u001b[0;31mValueError\u001b[0m: 'c' argument has 24 elements, which is inconsistent with 'x' and 'y' with size 25."
     ]
    },
    {
     "data": {
      "image/png": "[encoded data removed]",
      "text/plain": [
       "<Figure size 216x216 with 1 Axes>"
      ]
     },
     "metadata": {},
     "output_type": "display_data"
    }
   ],
   "source": [
    "for g in g_list:\n",
    "    paint_nodes(g, (3,5), False, [3,3])"
   ]
  },
  {
   "cell_type": "code",
   "execution_count": 78,
   "metadata": {},
   "outputs": [],
   "source": [
    "# pca\n",
    "from sklearn.decomposition import PCA\n",
    "pca = PCA(n_components=2)\n",
    "pcs = pca.fit_transform(node_embeddings)"
   ]
  },
  {
   "cell_type": "code",
   "execution_count": 79,
   "metadata": {},
   "outputs": [
    {
     "data": {
      "text/plain": [
       "array([[-0.9846221 , -0.567366  ],\n",
       "       [-0.7374786 , -0.06516159],\n",
       "       [ 0.8141182 , -0.5164485 ],\n",
       "       [-0.30989376,  0.8075702 ],\n",
       "       [-0.55718994,  0.6044246 ],\n",
       "       [ 1.0204908 , -0.09076781],\n",
       "       [ 0.19128743,  0.95308584],\n",
       "       [ 0.45959723, -0.9087869 ],\n",
       "       [ 0.95742786,  0.53426695],\n",
       "       [-0.32582185,  0.06158999],\n",
       "       [-0.7281773 , -0.86892843],\n",
       "       [-0.38167146, -0.63603604],\n",
       "       [-1.1212614 , -0.03492793],\n",
       "       [ 0.59567565,  0.9627463 ],\n",
       "       [-1.2130443 , -0.40417752],\n",
       "       [-0.84968525,  0.6154155 ],\n",
       "       [-0.15978122, -0.855275  ],\n",
       "       [-0.4477995 ,  1.0226476 ],\n",
       "       [ 1.1120598 , -0.66519433],\n",
       "       [ 1.1734104 ,  0.1790709 ],\n",
       "       [ 1.3789471 , -0.11331722],\n",
       "       [-0.6774093 ,  0.92840683],\n",
       "       [ 0.9137761 , -0.8755745 ],\n",
       "       [-0.9902023 , -0.68712115],\n",
       "       [ 0.86724836,  0.61985683]], dtype=float32)"
      ]
     },
     "execution_count": 79,
     "metadata": {},
     "output_type": "execute_result"
    }
   ],
   "source": [
    "pcs"
   ]
  },
  {
   "cell_type": "code",
   "execution_count": null,
   "metadata": {},
   "outputs": [],
   "source": []
  }
 ],
 "metadata": {
  "kernelspec": {
   "display_name": "Python 3.6.7 64-bit ('py36': conda)",
   "language": "python",
   "name": "python36764bitpy36conda15010154279947619213e5fcadee6bf3"
  },
  "language_info": {
   "codemirror_mode": {
    "name": "ipython",
    "version": 3
   },
   "file_extension": ".py",
   "mimetype": "text/x-python",
   "name": "python",
   "nbconvert_exporter": "python",
   "pygments_lexer": "ipython3",
   "version": "3.6.10"
  }
 },
 "nbformat": 4,
 "nbformat_minor": 2
}
